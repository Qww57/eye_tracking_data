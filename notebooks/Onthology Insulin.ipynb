{
 "cells": [
  {
   "cell_type": "code",
   "execution_count": 22,
   "metadata": {
    "collapsed": false
   },
   "outputs": [],
   "source": [
    "import ontospy\n",
    "model = ontospy.Ontospy(\"http://xmlns.com/foaf/0.1/\")"
   ]
  },
  {
   "cell_type": "code",
   "execution_count": 23,
   "metadata": {
    "collapsed": false
   },
   "outputs": [
    {
     "data": {
      "text/plain": [
       "[<Class *http://www.w3.org/2003/01/geo/wgs84_pos#SpatialThing*>,\n",
       " <Class *http://xmlns.com/foaf/0.1/Agent*>,\n",
       " <Class *http://xmlns.com/foaf/0.1/Document*>,\n",
       " <Class *http://xmlns.com/foaf/0.1/Group*>,\n",
       " <Class *http://xmlns.com/foaf/0.1/Image*>,\n",
       " <Class *http://xmlns.com/foaf/0.1/LabelProperty*>,\n",
       " <Class *http://xmlns.com/foaf/0.1/OnlineAccount*>,\n",
       " <Class *http://xmlns.com/foaf/0.1/OnlineChatAccount*>,\n",
       " <Class *http://xmlns.com/foaf/0.1/OnlineEcommerceAccount*>,\n",
       " <Class *http://xmlns.com/foaf/0.1/OnlineGamingAccount*>,\n",
       " <Class *http://xmlns.com/foaf/0.1/Organization*>,\n",
       " <Class *http://xmlns.com/foaf/0.1/Person*>,\n",
       " <Class *http://xmlns.com/foaf/0.1/PersonalProfileDocument*>,\n",
       " <Class *http://xmlns.com/foaf/0.1/Project*>]"
      ]
     },
     "execution_count": 23,
     "metadata": {},
     "output_type": "execute_result"
    }
   ],
   "source": [
    "model.classes"
   ]
  },
  {
   "cell_type": "code",
   "execution_count": 24,
   "metadata": {
    "collapsed": false
   },
   "outputs": [
    {
     "data": {
      "text/plain": [
       "[<Property *http://xmlns.com/foaf/0.1/account*>,\n",
       " <Property *http://xmlns.com/foaf/0.1/accountName*>,\n",
       " <Property *http://xmlns.com/foaf/0.1/accountServiceHomepage*>,\n",
       " <Property *http://xmlns.com/foaf/0.1/age*>,\n",
       " <Property *http://xmlns.com/foaf/0.1/aimChatID*>,\n",
       " <Property *http://xmlns.com/foaf/0.1/based_near*>,\n",
       " <Property *http://xmlns.com/foaf/0.1/birthday*>,\n",
       " <Property *http://xmlns.com/foaf/0.1/currentProject*>,\n",
       " <Property *http://xmlns.com/foaf/0.1/depiction*>,\n",
       " <Property *http://xmlns.com/foaf/0.1/depicts*>,\n",
       " <Property *http://xmlns.com/foaf/0.1/dnaChecksum*>,\n",
       " <Property *http://xmlns.com/foaf/0.1/familyName*>,\n",
       " <Property *http://xmlns.com/foaf/0.1/family_name*>,\n",
       " <Property *http://xmlns.com/foaf/0.1/firstName*>,\n",
       " <Property *http://xmlns.com/foaf/0.1/focus*>,\n",
       " <Property *http://xmlns.com/foaf/0.1/fundedBy*>,\n",
       " <Property *http://xmlns.com/foaf/0.1/geekcode*>,\n",
       " <Property *http://xmlns.com/foaf/0.1/gender*>,\n",
       " <Property *http://xmlns.com/foaf/0.1/givenName*>,\n",
       " <Property *http://xmlns.com/foaf/0.1/holdsAccount*>,\n",
       " <Property *http://xmlns.com/foaf/0.1/homepage*>,\n",
       " <Property *http://xmlns.com/foaf/0.1/icqChatID*>,\n",
       " <Property *http://xmlns.com/foaf/0.1/img*>,\n",
       " <Property *http://xmlns.com/foaf/0.1/interest*>,\n",
       " <Property *http://xmlns.com/foaf/0.1/isPrimaryTopicOf*>,\n",
       " <Property *http://xmlns.com/foaf/0.1/jabberID*>,\n",
       " <Property *http://xmlns.com/foaf/0.1/knows*>,\n",
       " <Property *http://xmlns.com/foaf/0.1/lastName*>,\n",
       " <Property *http://xmlns.com/foaf/0.1/logo*>,\n",
       " <Property *http://xmlns.com/foaf/0.1/made*>,\n",
       " <Property *http://xmlns.com/foaf/0.1/maker*>,\n",
       " <Property *http://xmlns.com/foaf/0.1/mbox*>,\n",
       " <Property *http://xmlns.com/foaf/0.1/mbox_sha1sum*>,\n",
       " <Property *http://xmlns.com/foaf/0.1/member*>,\n",
       " <Property *http://xmlns.com/foaf/0.1/membershipClass*>,\n",
       " <Property *http://xmlns.com/foaf/0.1/msnChatID*>,\n",
       " <Property *http://xmlns.com/foaf/0.1/myersBriggs*>,\n",
       " <Property *http://xmlns.com/foaf/0.1/name*>,\n",
       " <Property *http://xmlns.com/foaf/0.1/nick*>,\n",
       " <Property *http://xmlns.com/foaf/0.1/openid*>,\n",
       " <Property *http://xmlns.com/foaf/0.1/page*>,\n",
       " <Property *http://xmlns.com/foaf/0.1/pastProject*>,\n",
       " <Property *http://xmlns.com/foaf/0.1/phone*>,\n",
       " <Property *http://xmlns.com/foaf/0.1/plan*>,\n",
       " <Property *http://xmlns.com/foaf/0.1/primaryTopic*>,\n",
       " <Property *http://xmlns.com/foaf/0.1/publications*>,\n",
       " <Property *http://xmlns.com/foaf/0.1/schoolHomepage*>,\n",
       " <Property *http://xmlns.com/foaf/0.1/sha1*>,\n",
       " <Property *http://xmlns.com/foaf/0.1/skypeID*>,\n",
       " <Property *http://xmlns.com/foaf/0.1/status*>,\n",
       " <Property *http://xmlns.com/foaf/0.1/surname*>,\n",
       " <Property *http://xmlns.com/foaf/0.1/theme*>,\n",
       " <Property *http://xmlns.com/foaf/0.1/thumbnail*>,\n",
       " <Property *http://xmlns.com/foaf/0.1/tipjar*>,\n",
       " <Property *http://xmlns.com/foaf/0.1/title*>,\n",
       " <Property *http://xmlns.com/foaf/0.1/topic*>,\n",
       " <Property *http://xmlns.com/foaf/0.1/topic_interest*>,\n",
       " <Property *http://xmlns.com/foaf/0.1/weblog*>,\n",
       " <Property *http://xmlns.com/foaf/0.1/workInfoHomepage*>,\n",
       " <Property *http://xmlns.com/foaf/0.1/workplaceHomepage*>,\n",
       " <Property *http://xmlns.com/foaf/0.1/yahooChatID*>,\n",
       " <Property *http://purl.org/dc/elements/1.1/date*>,\n",
       " <Property *http://purl.org/dc/elements/1.1/description*>,\n",
       " <Property *http://purl.org/dc/elements/1.1/title*>,\n",
       " <Property *http://www.w3.org/2003/06/sw-vocab-status/ns#term_status*>,\n",
       " <Property *http://xmlns.com/wot/0.1/assurance*>,\n",
       " <Property *http://xmlns.com/wot/0.1/src_assurance*>]"
      ]
     },
     "execution_count": 24,
     "metadata": {},
     "output_type": "execute_result"
    }
   ],
   "source": [
    "model.properties"
   ]
  },
  {
   "cell_type": "code",
   "execution_count": 25,
   "metadata": {
    "collapsed": false
   },
   "outputs": [
    {
     "name": "stdout",
     "output_type": "stream",
     "text": [
      "http://www.w3.org/2003/01/geo/wgs84_pos#SpatialThing\n",
      "----foaf:Person\n",
      "foaf:Agent\n",
      "----foaf:Group\n",
      "----foaf:Organization\n",
      "----foaf:Person\n",
      "foaf:Document\n",
      "----foaf:Image\n",
      "----foaf:PersonalProfileDocument\n",
      "foaf:LabelProperty\n",
      "foaf:OnlineAccount\n",
      "----foaf:OnlineChatAccount\n",
      "----foaf:OnlineEcommerceAccount\n",
      "----foaf:OnlineGamingAccount\n",
      "foaf:Project\n"
     ]
    }
   ],
   "source": [
    "model.printClassTree()"
   ]
  },
  {
   "cell_type": "code",
   "execution_count": 26,
   "metadata": {
    "collapsed": false
   },
   "outputs": [
    {
     "data": {
      "text/plain": [
       "[<Class *http://www.w3.org/2003/01/geo/wgs84_pos#SpatialThing*>,\n",
       " <Class *http://xmlns.com/foaf/0.1/Agent*>,\n",
       " <Class *http://xmlns.com/foaf/0.1/Document*>,\n",
       " <Class *http://xmlns.com/foaf/0.1/LabelProperty*>,\n",
       " <Class *http://xmlns.com/foaf/0.1/OnlineAccount*>,\n",
       " <Class *http://xmlns.com/foaf/0.1/Project*>]"
      ]
     },
     "execution_count": 26,
     "metadata": {},
     "output_type": "execute_result"
    }
   ],
   "source": [
    "model.toplayer\n"
   ]
  },
  {
   "cell_type": "code",
   "execution_count": 27,
   "metadata": {
    "collapsed": false
   },
   "outputs": [
    {
     "data": {
      "text/plain": [
       "[<Class *http://xmlns.com/foaf/0.1/Document*>,\n",
       " <Class *http://xmlns.com/foaf/0.1/PersonalProfileDocument*>]"
      ]
     },
     "execution_count": 27,
     "metadata": {},
     "output_type": "execute_result"
    }
   ],
   "source": [
    "model.getClass(\"document\")"
   ]
  },
  {
   "cell_type": "code",
   "execution_count": 28,
   "metadata": {
    "collapsed": true
   },
   "outputs": [],
   "source": [
    "a_class=_[0]"
   ]
  },
  {
   "cell_type": "code",
   "execution_count": 29,
   "metadata": {
    "collapsed": false
   },
   "outputs": [
    {
     "data": {
      "text/plain": [
       "[]"
      ]
     },
     "execution_count": 29,
     "metadata": {},
     "output_type": "execute_result"
    }
   ],
   "source": [
    "a_class.parents()"
   ]
  },
  {
   "cell_type": "code",
   "execution_count": 30,
   "metadata": {
    "collapsed": false
   },
   "outputs": [
    {
     "data": {
      "text/plain": [
       "[<Class *http://xmlns.com/foaf/0.1/Image*>,\n",
       " <Class *http://xmlns.com/foaf/0.1/PersonalProfileDocument*>]"
      ]
     },
     "execution_count": 30,
     "metadata": {},
     "output_type": "execute_result"
    }
   ],
   "source": [
    "a_class.children()"
   ]
  },
  {
   "cell_type": "code",
   "execution_count": null,
   "metadata": {
    "collapsed": true
   },
   "outputs": [],
   "source": []
  }
 ],
 "metadata": {
  "kernelspec": {
   "display_name": "Python 2",
   "language": "python",
   "name": "python2"
  },
  "language_info": {
   "codemirror_mode": {
    "name": "ipython",
    "version": 2
   },
   "file_extension": ".py",
   "mimetype": "text/x-python",
   "name": "python",
   "nbconvert_exporter": "python",
   "pygments_lexer": "ipython2",
   "version": "2.7.12"
  }
 },
 "nbformat": 4,
 "nbformat_minor": 2
}
