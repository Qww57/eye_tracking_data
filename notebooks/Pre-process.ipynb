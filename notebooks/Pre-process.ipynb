{
 "cells": [
  {
   "cell_type": "markdown",
   "metadata": {},
   "source": [
    "Small script to bring together files\n"
   ]
  },
  {
   "cell_type": "code",
   "execution_count": 1,
   "metadata": {
    "collapsed": true
   },
   "outputs": [],
   "source": [
    "import os\n",
    "import csv\n",
    "import pandas as pd\n",
    "import numpy as np\n",
    "import matplotlib.pyplot as plt\n",
    "import seaborn as sns\n",
    "from scipy.signal import argrelextrema, argrelmax"
   ]
  },
  {
   "cell_type": "code",
   "execution_count": 7,
   "metadata": {
    "collapsed": true
   },
   "outputs": [],
   "source": [
    "def load(location):\n",
    "    data = []\n",
    "\n",
    "    # Parsing the file line by line and replacing errors if encountered.\n",
    "    with open(location, 'replace') as f:\n",
    "        csv_file = csv.reader(f, delimiter=';', quotechar='|')\n",
    "        for line in csv_file:\n",
    "            data.append(line)\n",
    "    \n",
    "    # Filtering the data where Eye Tracking is not working\n",
    "    return [line for line in data if not line[34] == \"EyesNotFound\"]"
   ]
  },
  {
   "cell_type": "code",
   "execution_count": 8,
   "metadata": {
    "collapsed": false
   },
   "outputs": [],
   "source": [
    "def shorten(tmp):\n",
    "    short = []\n",
    "    for l in tmp:\n",
    "        short.append([l[2], l[3], l[8], l[9], l[10], l[32], l[33], l[34], l[35], l[36], l[39]])\n",
    "    return short"
   ]
  },
  {
   "cell_type": "code",
   "execution_count": 9,
   "metadata": {
    "collapsed": true
   },
   "outputs": [],
   "source": [
    "def load_all(files):\n",
    "    d = []\n",
    "    for file in files:\n",
    "        d.extend(shorten(load(file)[1:]))\n",
    "    return d"
   ]
  },
  {
   "cell_type": "code",
   "execution_count": 10,
   "metadata": {
    "collapsed": true
   },
   "outputs": [],
   "source": [
    "files = [\"/media/sf_EyeTracking/data/all_data_34_36.csv\",\n",
    "         \"/media/sf_EyeTracking/data/all_data_38_40.csv\",\n",
    "         \"/media/sf_EyeTracking/data/all_data_41_43.csv\"]"
   ]
  },
  {
   "cell_type": "code",
   "execution_count": 11,
   "metadata": {
    "collapsed": false
   },
   "outputs": [
    {
     "name": "stdout",
     "output_type": "stream",
     "text": [
      "1448604\n"
     ]
    }
   ],
   "source": [
    "m = load_all(files)\n",
    "print len(m)"
   ]
  },
  {
   "cell_type": "code",
   "execution_count": 12,
   "metadata": {
    "collapsed": true
   },
   "outputs": [],
   "source": [
    "def get_users(data):\n",
    "    users = list(set([line[0] for line in data[1:]]))\n",
    "    users.sort()\n",
    "    return users"
   ]
  },
  {
   "cell_type": "code",
   "execution_count": 13,
   "metadata": {
    "collapsed": false
   },
   "outputs": [
    {
     "name": "stdout",
     "output_type": "stream",
     "text": [
      "['34', '36', '38', '39', '40', '41', '42', '43']\n"
     ]
    }
   ],
   "source": [
    "print get_users(m)"
   ]
  },
  {
   "cell_type": "code",
   "execution_count": 18,
   "metadata": {
    "collapsed": true
   },
   "outputs": [],
   "source": [
    "import pickle"
   ]
  },
  {
   "cell_type": "code",
   "execution_count": 19,
   "metadata": {
    "collapsed": true
   },
   "outputs": [],
   "source": [
    "def save_pickle(m, name):\n",
    "    with open(name + '.pickle', 'wb') as handle:\n",
    "        pickle.dump(m, handle, protocol=pickle.HIGHEST_PROTOCOL)\n",
    "\n",
    "def get_pickle(name):\n",
    "    with open(name + '.pickle', 'rb') as handle:\n",
    "        return pickle.load(handle)"
   ]
  },
  {
   "cell_type": "code",
   "execution_count": null,
   "metadata": {
    "collapsed": false
   },
   "outputs": [],
   "source": [
    "save_pickle(m,'short_34_43')"
   ]
  },
  {
   "cell_type": "code",
   "execution_count": null,
   "metadata": {
    "collapsed": true
   },
   "outputs": [],
   "source": [
    "test = get_pickle('short_')"
   ]
  }
 ],
 "metadata": {
  "kernelspec": {
   "display_name": "Python 2",
   "language": "python",
   "name": "python2"
  },
  "language_info": {
   "codemirror_mode": {
    "name": "ipython",
    "version": 2
   },
   "file_extension": ".py",
   "mimetype": "text/x-python",
   "name": "python",
   "nbconvert_exporter": "python",
   "pygments_lexer": "ipython2",
   "version": "2.7.12"
  }
 },
 "nbformat": 4,
 "nbformat_minor": 2
}
